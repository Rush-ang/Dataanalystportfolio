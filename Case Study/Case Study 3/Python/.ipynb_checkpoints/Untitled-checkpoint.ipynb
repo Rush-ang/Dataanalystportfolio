{
 "cells": [
  {
   "cell_type": "code",
   "execution_count": 2,
   "id": "01b3511a-600f-44d1-a2fe-c4e65446403c",
   "metadata": {},
   "outputs": [],
   "source": [
    "# 1. Import necessary libraries\n",
    "import pandas as pd\n",
    "import matplotlib.pyplot as plt\n",
    "import seaborn as sns"
   ]
  },
  {
   "cell_type": "code",
   "execution_count": 3,
   "id": "8111c079-768e-4719-ab90-791528e21178",
   "metadata": {},
   "outputs": [
    {
     "name": "stdout",
     "output_type": "stream",
     "text": [
      "Dataset loaded successfully.\n"
     ]
    }
   ],
   "source": [
    "# 2. Load the dataset\n",
    "# Make sure 'avocado.csv' is in the same directory as this script, or provide the full path.\n",
    "try:\n",
    "    df = pd.read_csv('avocado.csv')\n",
    "    print(\"Dataset loaded successfully.\")\n",
    "except FileNotFoundError:\n",
    "    print(\"Error: avocado.csv not found. Please check the file path.\")\n",
    "    exit()"
   ]
  },
  {
   "cell_type": "code",
   "execution_count": 4,
   "id": "2a2db877-2e87-4834-8221-ac9919a4527d",
   "metadata": {},
   "outputs": [
    {
     "name": "stdout",
     "output_type": "stream",
     "text": [
      "\n",
      "First 5 rows of the dataset:\n",
      "   Unnamed: 0        Date  AveragePrice  Total Volume     4046       4225  \\\n",
      "0           0  2015-12-27          1.33      64236.62  1036.74   54454.85   \n",
      "1           1  2015-12-20          1.35      54876.98   674.28   44638.81   \n",
      "2           2  2015-12-13          0.93     118220.22   794.70  109149.67   \n",
      "3           3  2015-12-06          1.08      78992.15  1132.00   71976.41   \n",
      "4           4  2015-11-29          1.28      51039.60   941.48   43838.39   \n",
      "\n",
      "     4770  Total Bags  Small Bags  Large Bags  XLarge Bags          type  \\\n",
      "0   48.16     8696.87     8603.62       93.25          0.0  conventional   \n",
      "1   58.33     9505.56     9408.07       97.49          0.0  conventional   \n",
      "2  130.50     8145.35     8042.21      103.14          0.0  conventional   \n",
      "3   72.58     5811.16     5677.40      133.76          0.0  conventional   \n",
      "4   75.78     6183.95     5986.26      197.69          0.0  conventional   \n",
      "\n",
      "   year  region  \n",
      "0  2015  Albany  \n",
      "1  2015  Albany  \n",
      "2  2015  Albany  \n",
      "3  2015  Albany  \n",
      "4  2015  Albany  \n",
      "\n",
      "Dataset Information:\n",
      "<class 'pandas.core.frame.DataFrame'>\n",
      "RangeIndex: 18249 entries, 0 to 18248\n",
      "Data columns (total 14 columns):\n",
      " #   Column        Non-Null Count  Dtype  \n",
      "---  ------        --------------  -----  \n",
      " 0   Unnamed: 0    18249 non-null  int64  \n",
      " 1   Date          18249 non-null  object \n",
      " 2   AveragePrice  18249 non-null  float64\n",
      " 3   Total Volume  18249 non-null  float64\n",
      " 4   4046          18249 non-null  float64\n",
      " 5   4225          18249 non-null  float64\n",
      " 6   4770          18249 non-null  float64\n",
      " 7   Total Bags    18249 non-null  float64\n",
      " 8   Small Bags    18249 non-null  float64\n",
      " 9   Large Bags    18249 non-null  float64\n",
      " 10  XLarge Bags   18249 non-null  float64\n",
      " 11  type          18249 non-null  object \n",
      " 12  year          18249 non-null  int64  \n",
      " 13  region        18249 non-null  object \n",
      "dtypes: float64(9), int64(2), object(3)\n",
      "memory usage: 1.9+ MB\n",
      "\n",
      "Summary Statistics:\n",
      "         Unnamed: 0  AveragePrice  Total Volume          4046          4225  \\\n",
      "count  18249.000000  18249.000000  1.824900e+04  1.824900e+04  1.824900e+04   \n",
      "mean      24.232232      1.405978  8.506440e+05  2.930084e+05  2.951546e+05   \n",
      "std       15.481045      0.402677  3.453545e+06  1.264989e+06  1.204120e+06   \n",
      "min        0.000000      0.440000  8.456000e+01  0.000000e+00  0.000000e+00   \n",
      "25%       10.000000      1.100000  1.083858e+04  8.540700e+02  3.008780e+03   \n",
      "50%       24.000000      1.370000  1.073768e+05  8.645300e+03  2.906102e+04   \n",
      "75%       38.000000      1.660000  4.329623e+05  1.110202e+05  1.502069e+05   \n",
      "max       52.000000      3.250000  6.250565e+07  2.274362e+07  2.047057e+07   \n",
      "\n",
      "               4770    Total Bags    Small Bags    Large Bags    XLarge Bags  \\\n",
      "count  1.824900e+04  1.824900e+04  1.824900e+04  1.824900e+04   18249.000000   \n",
      "mean   2.283974e+04  2.396392e+05  1.821947e+05  5.433809e+04    3106.426507   \n",
      "std    1.074641e+05  9.862424e+05  7.461785e+05  2.439660e+05   17692.894652   \n",
      "min    0.000000e+00  0.000000e+00  0.000000e+00  0.000000e+00       0.000000   \n",
      "25%    0.000000e+00  5.088640e+03  2.849420e+03  1.274700e+02       0.000000   \n",
      "50%    1.849900e+02  3.974383e+04  2.636282e+04  2.647710e+03       0.000000   \n",
      "75%    6.243420e+03  1.107834e+05  8.333767e+04  2.202925e+04     132.500000   \n",
      "max    2.546439e+06  1.937313e+07  1.338459e+07  5.719097e+06  551693.650000   \n",
      "\n",
      "               year  \n",
      "count  18249.000000  \n",
      "mean    2016.147899  \n",
      "std        0.939938  \n",
      "min     2015.000000  \n",
      "25%     2015.000000  \n",
      "50%     2016.000000  \n",
      "75%     2017.000000  \n",
      "max     2018.000000  \n"
     ]
    }
   ],
   "source": [
    "# 3. Initial Data Exploration\n",
    "print(\"\\nFirst 5 rows of the dataset:\")\n",
    "print(df.head())\n",
    "\n",
    "print(\"\\nDataset Information:\")\n",
    "df.info()\n",
    "\n",
    "print(\"\\nSummary Statistics:\")\n",
    "print(df.describe())"
   ]
  },
  {
   "cell_type": "code",
   "execution_count": 5,
   "id": "f4b162cd-b3a4-4c41-b433-7d9ee4817d4b",
   "metadata": {},
   "outputs": [
    {
     "name": "stdout",
     "output_type": "stream",
     "text": [
      "\n",
      "'Unnamed: 0' column dropped.\n"
     ]
    }
   ],
   "source": [
    "# 1. Clean the Data\n",
    "# The 'Unnamed: 0' column is a redundant index. Let's drop it.\n",
    "if 'Unnamed: 0' in df.columns:\n",
    "    df = df.drop('Unnamed: 0', axis=1)\n",
    "    print(\"\\n'Unnamed: 0' column dropped.\")"
   ]
  },
  {
   "cell_type": "code",
   "execution_count": 6,
   "id": "8aaf7694-dd4e-4e0c-8b0a-fb77a4bbe241",
   "metadata": {},
   "outputs": [
    {
     "name": "stdout",
     "output_type": "stream",
     "text": [
      "\n",
      "'Date' column converted to datetime objects.\n"
     ]
    }
   ],
   "source": [
    "# 2. Handle Data Types\n",
    "# The 'Date' column is an object (string), let's convert it to a datetime object.\n",
    "df['Date'] = pd.to_datetime(df['Date'])\n",
    "print(\"\\n'Date' column converted to datetime objects.\")"
   ]
  },
  {
   "cell_type": "code",
   "execution_count": 7,
   "id": "da19277b-5e1e-49b6-b21f-f10598310eba",
   "metadata": {},
   "outputs": [
    {
     "name": "stdout",
     "output_type": "stream",
     "text": [
      "\n",
      "Number of missing values:\n",
      "Date            0\n",
      "AveragePrice    0\n",
      "Total Volume    0\n",
      "4046            0\n",
      "4225            0\n",
      "4770            0\n",
      "Total Bags      0\n",
      "Small Bags      0\n",
      "Large Bags      0\n",
      "XLarge Bags     0\n",
      "type            0\n",
      "year            0\n",
      "region          0\n",
      "dtype: int64\n",
      "\n",
      "Number of duplicate rows: 0\n"
     ]
    }
   ],
   "source": [
    "# 3. Check for Missing Values and Duplicates\n",
    "print(f\"\\nNumber of missing values:\\n{df.isnull().sum()}\")\n",
    "print(f\"\\nNumber of duplicate rows: {df.duplicated().sum()}\")\n",
    "# The dataset is clean, with no missing values or duplicates.\n"
   ]
  },
  {
   "cell_type": "code",
   "execution_count": 8,
   "id": "00ae5b92-e326-4752-b6cb-6e152e885054",
   "metadata": {},
   "outputs": [
    {
     "name": "stdout",
     "output_type": "stream",
     "text": [
      "\n",
      "'Month' and 'Year' columns created.\n"
     ]
    }
   ],
   "source": [
    "# 4. Feature Engineering\n",
    "# Let's extract the month and year from the 'Date' for easier analysis.\n",
    "df['Month'] = df['Date'].dt.month\n",
    "df['Year'] = df['Date'].dt.year\n",
    "print(\"\\n'Month' and 'Year' columns created.\")\n"
   ]
  },
  {
   "cell_type": "code",
   "execution_count": 9,
   "id": "a34b0291-2665-4d8c-a960-9f47c75355ce",
   "metadata": {},
   "outputs": [
    {
     "name": "stdout",
     "output_type": "stream",
     "text": [
      "\n",
      "Average Price per Year:\n",
      "Year\n",
      "2015    1.375590\n",
      "2016    1.338640\n",
      "2017    1.515128\n",
      "2018    1.347531\n",
      "Name: AveragePrice, dtype: float64\n"
     ]
    }
   ],
   "source": [
    "# Grouping data to find insights.\n",
    "\n",
    "# Average price per year\n",
    "avg_price_per_year = df.groupby('Year')['AveragePrice'].mean()\n",
    "print(\"\\nAverage Price per Year:\")\n",
    "print(avg_price_per_year)"
   ]
  },
  {
   "cell_type": "code",
   "execution_count": 10,
   "id": "a0efb293-faec-4457-a97d-32f1da92b064",
   "metadata": {},
   "outputs": [
    {
     "name": "stdout",
     "output_type": "stream",
     "text": [
      "\n",
      "Top 10 Regions by Total Volume:\n",
      "region\n",
      "TotalUS         5.864740e+09\n",
      "West            1.086779e+09\n",
      "California      1.028982e+09\n",
      "SouthCentral    1.011280e+09\n",
      "Northeast       7.132809e+08\n",
      "Southeast       6.152384e+08\n",
      "GreatLakes      5.896425e+08\n",
      "Midsouth        5.083494e+08\n",
      "LosAngeles      5.078965e+08\n",
      "Plains          3.111885e+08\n",
      "Name: Total Volume, dtype: float64\n"
     ]
    }
   ],
   "source": [
    "# Total volume by region\n",
    "total_volume_by_region = df.groupby('region')['Total Volume'].sum().sort_values(ascending=False)\n",
    "print(\"\\nTop 10 Regions by Total Volume:\")\n",
    "print(total_volume_by_region.head(10))"
   ]
  },
  {
   "cell_type": "code",
   "execution_count": 11,
   "id": "8e468f57-e6fd-4e9a-b910-4cd5599eb50f",
   "metadata": {},
   "outputs": [
    {
     "name": "stdout",
     "output_type": "stream",
     "text": [
      "\n",
      "Comparison between Conventional and Organic:\n",
      "              AveragePrice  Total Volume\n",
      "type                                    \n",
      "conventional      1.158040  1.508722e+10\n",
      "organic           1.653999  4.361817e+08\n"
     ]
    }
   ],
   "source": [
    "# Comparison between conventional and organic\n",
    "type_comparison = df.groupby('type').agg({'AveragePrice': 'mean', 'Total Volume': 'sum'})\n",
    "print(\"\\nComparison between Conventional and Organic:\")\n",
    "print(type_comparison)"
   ]
  },
  {
   "cell_type": "code",
   "execution_count": 12,
   "id": "62b34785-6368-43e5-b242-631584c9ea74",
   "metadata": {},
   "outputs": [
    {
     "data": {
      "text/plain": [
       "<Figure size 1200x700 with 0 Axes>"
      ]
     },
     "execution_count": 12,
     "metadata": {},
     "output_type": "execute_result"
    },
    {
     "data": {
      "text/plain": [
       "<Figure size 1200x700 with 0 Axes>"
      ]
     },
     "metadata": {},
     "output_type": "display_data"
    }
   ],
   "source": [
    "# Set a style for the plots\n",
    "sns.set_style(\"whitegrid\")\n",
    "plt.figure(figsize=(12, 7))"
   ]
  },
  {
   "cell_type": "code",
   "execution_count": 21,
   "id": "6a578e63-17f8-40f2-ac05-88149cae41cd",
   "metadata": {},
   "outputs": [
    {
     "data": {
      "text/plain": [
       "Text(0, 0.5, 'Average Price ($)')"
      ]
     },
     "execution_count": 21,
     "metadata": {},
     "output_type": "execute_result"
    },
    {
     "data": {
      "image/png": "[encoded data removed]",
      "text/plain": [
       "<Figure size 640x480 with 1 Axes>"
      ]
     },
     "metadata": {},
     "output_type": "display_data"
    }
   ],
   "source": [
    "# 1. Visualization: Average Price Over Time\n",
    "plt.subplot(2, 2, 1)\n",
    "sns.lineplot(data=df, x='Year', y='AveragePrice', hue='type')\n",
    "plt.title('Average Avocado Price Over Time')\n",
    "plt.xlabel('Year')\n",
    "plt.ylabel('Average Price ($)')"
   ]
  },
  {
   "cell_type": "code",
   "execution_count": 15,
   "id": "09bcb5b8-1f9a-4d71-afad-954a2e38336e",
   "metadata": {},
   "outputs": [
    {
     "name": "stderr",
     "output_type": "stream",
     "text": [
      "C:\\Users\\rushi\\AppData\\Local\\Temp\\ipykernel_11548\\527436408.py:3: FutureWarning: \n",
      "\n",
      "Passing `palette` without assigning `hue` is deprecated and will be removed in v0.14.0. Assign the `y` variable to `hue` and set `legend=False` for the same effect.\n",
      "\n",
      "  sns.barplot(x=total_volume_by_region.head(10).values, y=total_volume_by_region.head(10).index, palette='viridis')\n"
     ]
    },
    {
     "data": {
      "text/plain": [
       "Text(0, 0.5, 'Region')"
      ]
     },
     "execution_count": 15,
     "metadata": {},
     "output_type": "execute_result"
    },
    {
     "data": {
      "image/png": "[encoded data removed]",
      "text/plain": [
       "<Figure size 640x480 with 1 Axes>"
      ]
     },
     "metadata": {},
     "output_type": "display_data"
    }
   ],
   "source": [
    "# 2. Visualization: Top 10 Regions by Sales Volume\n",
    "plt.subplot(2, 2, 2)\n",
    "sns.barplot(x=total_volume_by_region.head(10).values, y=total_volume_by_region.head(10).index, palette='viridis')\n",
    "plt.title('Top 10 Regions by Total Sales Volume')\n",
    "plt.xlabel('Total Volume (in hundred millions)')\n",
    "plt.ylabel('Region')"
   ]
  },
  {
   "cell_type": "code",
   "execution_count": 16,
   "id": "b8c24107-964b-4d95-b1c3-7c21a983c9c8",
   "metadata": {},
   "outputs": [
    {
     "name": "stderr",
     "output_type": "stream",
     "text": [
      "C:\\Users\\rushi\\AppData\\Local\\Temp\\ipykernel_11548\\2779452813.py:3: FutureWarning: \n",
      "\n",
      "Passing `palette` without assigning `hue` is deprecated and will be removed in v0.14.0. Assign the `x` variable to `hue` and set `legend=False` for the same effect.\n",
      "\n",
      "  sns.boxplot(data=df, x='type', y='AveragePrice', palette='coolwarm')\n"
     ]
    },
    {
     "data": {
      "text/plain": [
       "Text(0, 0.5, 'Average Price ($)')"
      ]
     },
     "execution_count": 16,
     "metadata": {},
     "output_type": "execute_result"
    },
    {
     "data": {
      "image/png": "[encoded data removed]",
      "text/plain": [
       "<Figure size 640x480 with 1 Axes>"
      ]
     },
     "metadata": {},
     "output_type": "display_data"
    }
   ],
   "source": [
    "# 3. Visualization: Price Difference between Types\n",
    "plt.subplot(2, 2, 3)\n",
    "sns.boxplot(data=df, x='type', y='AveragePrice', palette='coolwarm')\n",
    "plt.title('Price Distribution: Conventional vs. Organic')\n",
    "plt.xlabel('Avocado Type')\n",
    "plt.ylabel('Average Price ($)')"
   ]
  },
  {
   "cell_type": "code",
   "execution_count": 19,
   "id": "7dfa5992-3fc9-444b-ad31-8d37bdd9364e",
   "metadata": {},
   "outputs": [
    {
     "name": "stderr",
     "output_type": "stream",
     "text": [
      "C:\\Users\\rushi\\AppData\\Local\\Temp\\ipykernel_11548\\3636032460.py:4: FutureWarning: \n",
      "\n",
      "Passing `palette` without assigning `hue` is deprecated and will be removed in v0.14.0. Assign the `x` variable to `hue` and set `legend=False` for the same effect.\n",
      "\n",
      "  sns.barplot(x=monthly_volume.index, y=monthly_volume.values, palette='mako')\n"
     ]
    },
    {
     "name": "stdout",
     "output_type": "stream",
     "text": [
      "\n",
      "Displaying visualizations...\n"
     ]
    },
    {
     "data": {
      "image/png": "[encoded data removed]",
      "text/plain": [
       "<Figure size 640x480 with 1 Axes>"
      ]
     },
     "metadata": {},
     "output_type": "display_data"
    }
   ],
   "source": [
    "# 4. Visualization: Seasonality\n",
    "monthly_volume = df.groupby('Month')['Total Volume'].mean()\n",
    "plt.subplot(2, 2, 4)\n",
    "sns.barplot(x=monthly_volume.index, y=monthly_volume.values, palette='mako')\n",
    "plt.title('Average Monthly Sales Volume (Seasonality)')\n",
    "plt.xlabel('Month')\n",
    "plt.ylabel('Average Total Volume')\n",
    "\n",
    "# Adjust layout and show plots\n",
    "plt.tight_layout()\n",
    "print(\"\\nDisplaying visualizations...\")\n",
    "plt.show()"
   ]
  },
  {
   "cell_type": "code",
   "execution_count": 20,
   "id": "6780537d-f052-4e68-a408-b208bc9f042a",
   "metadata": {},
   "outputs": [
    {
     "name": "stdout",
     "output_type": "stream",
     "text": [
      "\n",
      "--- Key Insights & Recommendations ---\n",
      "Insight 1: Organic avocados are consistently priced 40-60% higher than conventional ones but make up a small fraction of total volume.\n",
      "  > Recommendation: Market organic avocados as a premium product. Focus on value and quality, not price competition.\n",
      "\n",
      "Insight 2: Avocado sales show strong seasonality, with major peaks in February (Super Bowl) and May (Cinco de Mayo).\n",
      "  > Recommendation: Plan major promotional campaigns and increase inventory during late January and late April to maximize sales during peak demand.\n",
      "\n",
      "Insight 3: A few regions (California, West, SouthCentral) dominate the sales volume.\n",
      "  > Recommendation: Implement region-specific inventory strategies. Ensure high-volume regions are well-stocked, especially during peak seasons.\n"
     ]
    }
   ],
   "source": [
    "print(\"\\n--- Key Insights & Recommendations ---\")\n",
    "print(\"Insight 1: Organic avocados are consistently priced 40-60% higher than conventional ones but make up a small fraction of total volume.\")\n",
    "print(\"  > Recommendation: Market organic avocados as a premium product. Focus on value and quality, not price competition.\")\n",
    "print(\"\\nInsight 2: Avocado sales show strong seasonality, with major peaks in February (Super Bowl) and May (Cinco de Mayo).\")\n",
    "print(\"  > Recommendation: Plan major promotional campaigns and increase inventory during late January and late April to maximize sales during peak demand.\")\n",
    "print(\"\\nInsight 3: A few regions (California, West, SouthCentral) dominate the sales volume.\")\n",
    "print(\"  > Recommendation: Implement region-specific inventory strategies. Ensure high-volume regions are well-stocked, especially during peak seasons.\")\n"
   ]
  }
 ],
 "metadata": {
  "kernelspec": {
   "display_name": "Python 3 (ipykernel)",
   "language": "python",
   "name": "python3"
  },
  "language_info": {
   "codemirror_mode": {
    "name": "ipython",
    "version": 3
   },
   "file_extension": ".py",
   "mimetype": "text/x-python",
   "name": "python",
   "nbconvert_exporter": "python",
   "pygments_lexer": "ipython3",
   "version": "3.13.5"
  }
 },
 "nbformat": 4,
 "nbformat_minor": 5
}
